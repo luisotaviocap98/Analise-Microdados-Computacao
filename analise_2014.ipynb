{
  "cells": [
    {
      "cell_type": "code",
      "execution_count": 1,
      "metadata": {
        "id": "u-Cow7emYBye"
      },
      "outputs": [],
      "source": [
        "import pandas as pd"
      ]
    },
    {
      "cell_type": "code",
      "execution_count": 2,
      "metadata": {
        "id": "0lqnvroSYByg"
      },
      "outputs": [],
      "source": [
        "colunas = ['CO_CATEGAD','CO_GRUPO','CO_REGIAO_CURSO','CO_UF_CURSO','TP_SEXO','TP_PRES','NT_GER','NT_FG','NT_OBJ_FG','NT_DIS_FG','NT_CE','NT_OBJ_CE','NT_DIS_CE', 'QE_I01', 'QE_I02','QE_I04','QE_I05', 'QE_I06', 'QE_I07', 'QE_I08','QE_I15','QE_I17', 'QE_I18', 'NU_IDADE','CO_CURSO','ANO_FIM_2G','ANO_IN_GRAD','IN_MATUT','IN_VESPER','IN_NOTURNO','CO_IES','CO_ORGACAD','QE_I10','CO_RS_I9','QE_I22','QE_I23', 'QE_I61', 'QE_I62', 'QE_I38', 'QE_I27']"
      ]
    },
    {
      "cell_type": "code",
      "execution_count": 3,
      "metadata": {
        "colab": {
          "base_uri": "https://localhost:8080/"
        },
        "id": "8arWZ-OcYByj",
        "outputId": "c5997686-341e-44c5-e426-be0538343b05"
      },
      "outputs": [
        {
          "name": "stderr",
          "output_type": "stream",
          "text": [
            "/home/luiscapelari/.local/lib/python3.8/site-packages/IPython/core/interactiveshell.py:3165: DtypeWarning: Columns (1) have mixed types.Specify dtype option on import or set low_memory=False.\n",
            "  has_raised = await self.run_ast_nodes(code_ast.body, cell_name,\n"
          ]
        }
      ],
      "source": [
        "microdados = pd.read_csv('MICRODADOS_ENADE_2014_2.csv',sep=';',usecols=colunas,decimal=',',dtype={'TP_PRES':int,'CO_CURSO':str})"
      ]
    },
    {
      "cell_type": "code",
      "execution_count": 4,
      "metadata": {
        "colab": {
          "base_uri": "https://localhost:8080/",
          "height": 488
        },
        "id": "pJrV9LJUYByk",
        "outputId": "1b32f130-922e-4110-b5f9-5178fb90a576"
      },
      "outputs": [
        {
          "data": {
            "text/html": [
              "<div>\n",
              "<style scoped>\n",
              "    .dataframe tbody tr th:only-of-type {\n",
              "        vertical-align: middle;\n",
              "    }\n",
              "\n",
              "    .dataframe tbody tr th {\n",
              "        vertical-align: top;\n",
              "    }\n",
              "\n",
              "    .dataframe thead th {\n",
              "        text-align: right;\n",
              "    }\n",
              "</style>\n",
              "<table border=\"1\" class=\"dataframe\">\n",
              "  <thead>\n",
              "    <tr style=\"text-align: right;\">\n",
              "      <th></th>\n",
              "      <th>CO_IES</th>\n",
              "      <th>CO_CATEGAD</th>\n",
              "      <th>CO_ORGACAD</th>\n",
              "      <th>CO_GRUPO</th>\n",
              "      <th>CO_CURSO</th>\n",
              "      <th>CO_UF_CURSO</th>\n",
              "      <th>CO_REGIAO_CURSO</th>\n",
              "      <th>NU_IDADE</th>\n",
              "      <th>TP_SEXO</th>\n",
              "      <th>ANO_FIM_2G</th>\n",
              "      <th>...</th>\n",
              "      <th>QE_I10</th>\n",
              "      <th>QE_I15</th>\n",
              "      <th>QE_I17</th>\n",
              "      <th>QE_I18</th>\n",
              "      <th>QE_I22</th>\n",
              "      <th>QE_I23</th>\n",
              "      <th>QE_I27</th>\n",
              "      <th>QE_I38</th>\n",
              "      <th>QE_I61</th>\n",
              "      <th>QE_I62</th>\n",
              "    </tr>\n",
              "  </thead>\n",
              "  <tbody>\n",
              "    <tr>\n",
              "      <th>0</th>\n",
              "      <td>1</td>\n",
              "      <td>10002</td>\n",
              "      <td>10028</td>\n",
              "      <td>5710</td>\n",
              "      <td>3</td>\n",
              "      <td>51</td>\n",
              "      <td>5</td>\n",
              "      <td>24</td>\n",
              "      <td>M</td>\n",
              "      <td>2008</td>\n",
              "      <td>...</td>\n",
              "      <td>A</td>\n",
              "      <td>A</td>\n",
              "      <td>B</td>\n",
              "      <td>A</td>\n",
              "      <td>A</td>\n",
              "      <td>C</td>\n",
              "      <td>6.0</td>\n",
              "      <td>5.0</td>\n",
              "      <td>4.0</td>\n",
              "      <td>4.0</td>\n",
              "    </tr>\n",
              "    <tr>\n",
              "      <th>1</th>\n",
              "      <td>1</td>\n",
              "      <td>10002</td>\n",
              "      <td>10028</td>\n",
              "      <td>5710</td>\n",
              "      <td>3</td>\n",
              "      <td>51</td>\n",
              "      <td>5</td>\n",
              "      <td>22</td>\n",
              "      <td>F</td>\n",
              "      <td>2008</td>\n",
              "      <td>...</td>\n",
              "      <td>C</td>\n",
              "      <td>A</td>\n",
              "      <td>B</td>\n",
              "      <td>A</td>\n",
              "      <td>B</td>\n",
              "      <td>B</td>\n",
              "      <td>4.0</td>\n",
              "      <td>2.0</td>\n",
              "      <td>3.0</td>\n",
              "      <td>3.0</td>\n",
              "    </tr>\n",
              "    <tr>\n",
              "      <th>2</th>\n",
              "      <td>1</td>\n",
              "      <td>10002</td>\n",
              "      <td>10028</td>\n",
              "      <td>5710</td>\n",
              "      <td>3</td>\n",
              "      <td>51</td>\n",
              "      <td>5</td>\n",
              "      <td>24</td>\n",
              "      <td>F</td>\n",
              "      <td>2007</td>\n",
              "      <td>...</td>\n",
              "      <td>A</td>\n",
              "      <td>A</td>\n",
              "      <td>E</td>\n",
              "      <td>A</td>\n",
              "      <td>B</td>\n",
              "      <td>B</td>\n",
              "      <td>5.0</td>\n",
              "      <td>4.0</td>\n",
              "      <td>1.0</td>\n",
              "      <td>1.0</td>\n",
              "    </tr>\n",
              "    <tr>\n",
              "      <th>3</th>\n",
              "      <td>1</td>\n",
              "      <td>10002</td>\n",
              "      <td>10028</td>\n",
              "      <td>5710</td>\n",
              "      <td>3</td>\n",
              "      <td>51</td>\n",
              "      <td>5</td>\n",
              "      <td>24</td>\n",
              "      <td>M</td>\n",
              "      <td>2007</td>\n",
              "      <td>...</td>\n",
              "      <td>A</td>\n",
              "      <td>A</td>\n",
              "      <td>B</td>\n",
              "      <td>A</td>\n",
              "      <td>C</td>\n",
              "      <td>B</td>\n",
              "      <td>1.0</td>\n",
              "      <td>1.0</td>\n",
              "      <td>1.0</td>\n",
              "      <td>7.0</td>\n",
              "    </tr>\n",
              "    <tr>\n",
              "      <th>4</th>\n",
              "      <td>1</td>\n",
              "      <td>10002</td>\n",
              "      <td>10028</td>\n",
              "      <td>5710</td>\n",
              "      <td>3</td>\n",
              "      <td>51</td>\n",
              "      <td>5</td>\n",
              "      <td>23</td>\n",
              "      <td>M</td>\n",
              "      <td>2008</td>\n",
              "      <td>...</td>\n",
              "      <td>A</td>\n",
              "      <td>A</td>\n",
              "      <td>B</td>\n",
              "      <td>A</td>\n",
              "      <td>B</td>\n",
              "      <td>D</td>\n",
              "      <td>1.0</td>\n",
              "      <td>2.0</td>\n",
              "      <td>5.0</td>\n",
              "      <td>1.0</td>\n",
              "    </tr>\n",
              "    <tr>\n",
              "      <th>...</th>\n",
              "      <td>...</td>\n",
              "      <td>...</td>\n",
              "      <td>...</td>\n",
              "      <td>...</td>\n",
              "      <td>...</td>\n",
              "      <td>...</td>\n",
              "      <td>...</td>\n",
              "      <td>...</td>\n",
              "      <td>...</td>\n",
              "      <td>...</td>\n",
              "      <td>...</td>\n",
              "      <td>...</td>\n",
              "      <td>...</td>\n",
              "      <td>...</td>\n",
              "      <td>...</td>\n",
              "      <td>...</td>\n",
              "      <td>...</td>\n",
              "      <td>...</td>\n",
              "      <td>...</td>\n",
              "      <td>...</td>\n",
              "      <td>...</td>\n",
              "    </tr>\n",
              "    <tr>\n",
              "      <th>481715</th>\n",
              "      <td>47</td>\n",
              "      <td>10001</td>\n",
              "      <td>10028</td>\n",
              "      <td>4005</td>\n",
              "      <td>5001162</td>\n",
              "      <td>52</td>\n",
              "      <td>5</td>\n",
              "      <td>36</td>\n",
              "      <td>F</td>\n",
              "      <td>1998</td>\n",
              "      <td>...</td>\n",
              "      <td>E</td>\n",
              "      <td>F</td>\n",
              "      <td>A</td>\n",
              "      <td>A</td>\n",
              "      <td>E</td>\n",
              "      <td>C</td>\n",
              "      <td>6.0</td>\n",
              "      <td>5.0</td>\n",
              "      <td>5.0</td>\n",
              "      <td>6.0</td>\n",
              "    </tr>\n",
              "    <tr>\n",
              "      <th>481716</th>\n",
              "      <td>47</td>\n",
              "      <td>10001</td>\n",
              "      <td>10028</td>\n",
              "      <td>4005</td>\n",
              "      <td>5001162</td>\n",
              "      <td>52</td>\n",
              "      <td>5</td>\n",
              "      <td>32</td>\n",
              "      <td>M</td>\n",
              "      <td>2002</td>\n",
              "      <td>...</td>\n",
              "      <td>D</td>\n",
              "      <td>A</td>\n",
              "      <td>A</td>\n",
              "      <td>A</td>\n",
              "      <td>B</td>\n",
              "      <td>A</td>\n",
              "      <td>5.0</td>\n",
              "      <td>5.0</td>\n",
              "      <td>5.0</td>\n",
              "      <td>6.0</td>\n",
              "    </tr>\n",
              "    <tr>\n",
              "      <th>481717</th>\n",
              "      <td>47</td>\n",
              "      <td>10001</td>\n",
              "      <td>10028</td>\n",
              "      <td>4005</td>\n",
              "      <td>5001162</td>\n",
              "      <td>52</td>\n",
              "      <td>5</td>\n",
              "      <td>21</td>\n",
              "      <td>F</td>\n",
              "      <td>2009</td>\n",
              "      <td>...</td>\n",
              "      <td>D</td>\n",
              "      <td>A</td>\n",
              "      <td>A</td>\n",
              "      <td>A</td>\n",
              "      <td>C</td>\n",
              "      <td>C</td>\n",
              "      <td>6.0</td>\n",
              "      <td>5.0</td>\n",
              "      <td>6.0</td>\n",
              "      <td>6.0</td>\n",
              "    </tr>\n",
              "    <tr>\n",
              "      <th>481718</th>\n",
              "      <td>47</td>\n",
              "      <td>10001</td>\n",
              "      <td>10028</td>\n",
              "      <td>4005</td>\n",
              "      <td>5001162</td>\n",
              "      <td>52</td>\n",
              "      <td>5</td>\n",
              "      <td>41</td>\n",
              "      <td>F</td>\n",
              "      <td>1990</td>\n",
              "      <td>...</td>\n",
              "      <td>E</td>\n",
              "      <td>A</td>\n",
              "      <td>A</td>\n",
              "      <td>C</td>\n",
              "      <td>E</td>\n",
              "      <td>B</td>\n",
              "      <td>5.0</td>\n",
              "      <td>5.0</td>\n",
              "      <td>4.0</td>\n",
              "      <td>4.0</td>\n",
              "    </tr>\n",
              "    <tr>\n",
              "      <th>481719</th>\n",
              "      <td>47</td>\n",
              "      <td>10001</td>\n",
              "      <td>10028</td>\n",
              "      <td>4005</td>\n",
              "      <td>5001162</td>\n",
              "      <td>52</td>\n",
              "      <td>5</td>\n",
              "      <td>31</td>\n",
              "      <td>M</td>\n",
              "      <td>2003</td>\n",
              "      <td>...</td>\n",
              "      <td>E</td>\n",
              "      <td>A</td>\n",
              "      <td>A</td>\n",
              "      <td>A</td>\n",
              "      <td>C</td>\n",
              "      <td>E</td>\n",
              "      <td>6.0</td>\n",
              "      <td>6.0</td>\n",
              "      <td>6.0</td>\n",
              "      <td>6.0</td>\n",
              "    </tr>\n",
              "  </tbody>\n",
              "</table>\n",
              "<p>481720 rows × 40 columns</p>\n",
              "</div>"
            ],
            "text/plain": [
              "       CO_IES  CO_CATEGAD  CO_ORGACAD  CO_GRUPO CO_CURSO  CO_UF_CURSO  \\\n",
              "0           1       10002       10028      5710        3           51   \n",
              "1           1       10002       10028      5710        3           51   \n",
              "2           1       10002       10028      5710        3           51   \n",
              "3           1       10002       10028      5710        3           51   \n",
              "4           1       10002       10028      5710        3           51   \n",
              "...       ...         ...         ...       ...      ...          ...   \n",
              "481715     47       10001       10028      4005  5001162           52   \n",
              "481716     47       10001       10028      4005  5001162           52   \n",
              "481717     47       10001       10028      4005  5001162           52   \n",
              "481718     47       10001       10028      4005  5001162           52   \n",
              "481719     47       10001       10028      4005  5001162           52   \n",
              "\n",
              "        CO_REGIAO_CURSO  NU_IDADE TP_SEXO  ANO_FIM_2G  ...  QE_I10  QE_I15  \\\n",
              "0                     5        24       M        2008  ...       A       A   \n",
              "1                     5        22       F        2008  ...       C       A   \n",
              "2                     5        24       F        2007  ...       A       A   \n",
              "3                     5        24       M        2007  ...       A       A   \n",
              "4                     5        23       M        2008  ...       A       A   \n",
              "...                 ...       ...     ...         ...  ...     ...     ...   \n",
              "481715                5        36       F        1998  ...       E       F   \n",
              "481716                5        32       M        2002  ...       D       A   \n",
              "481717                5        21       F        2009  ...       D       A   \n",
              "481718                5        41       F        1990  ...       E       A   \n",
              "481719                5        31       M        2003  ...       E       A   \n",
              "\n",
              "        QE_I17  QE_I18  QE_I22 QE_I23 QE_I27 QE_I38 QE_I61 QE_I62  \n",
              "0            B       A       A      C    6.0    5.0    4.0    4.0  \n",
              "1            B       A       B      B    4.0    2.0    3.0    3.0  \n",
              "2            E       A       B      B    5.0    4.0    1.0    1.0  \n",
              "3            B       A       C      B    1.0    1.0    1.0    7.0  \n",
              "4            B       A       B      D    1.0    2.0    5.0    1.0  \n",
              "...        ...     ...     ...    ...    ...    ...    ...    ...  \n",
              "481715       A       A       E      C    6.0    5.0    5.0    6.0  \n",
              "481716       A       A       B      A    5.0    5.0    5.0    6.0  \n",
              "481717       A       A       C      C    6.0    5.0    6.0    6.0  \n",
              "481718       A       C       E      B    5.0    5.0    4.0    4.0  \n",
              "481719       A       A       C      E    6.0    6.0    6.0    6.0  \n",
              "\n",
              "[481720 rows x 40 columns]"
            ]
          },
          "execution_count": 4,
          "metadata": {},
          "output_type": "execute_result"
        }
      ],
      "source": [
        "microdados"
      ]
    },
    {
      "cell_type": "code",
      "execution_count": 5,
      "metadata": {
        "colab": {
          "base_uri": "https://localhost:8080/"
        },
        "id": "-Wp0B7mvYByl",
        "outputId": "471408ce-b3a7-449e-ec9e-38695097183d"
      },
      "outputs": [
        {
          "data": {
            "text/plain": [
              "CO_IES              object\n",
              "CO_CATEGAD           int64\n",
              "CO_ORGACAD           int64\n",
              "CO_GRUPO             int64\n",
              "CO_CURSO            object\n",
              "CO_UF_CURSO          int64\n",
              "CO_REGIAO_CURSO      int64\n",
              "NU_IDADE             int64\n",
              "TP_SEXO             object\n",
              "ANO_FIM_2G           int64\n",
              "ANO_IN_GRAD          int64\n",
              "IN_MATUT             int64\n",
              "IN_VESPER            int64\n",
              "IN_NOTURNO           int64\n",
              "TP_PRES              int64\n",
              "NT_GER              object\n",
              "NT_FG               object\n",
              "NT_OBJ_FG           object\n",
              "NT_DIS_FG           object\n",
              "NT_CE               object\n",
              "NT_OBJ_CE           object\n",
              "NT_DIS_CE           object\n",
              "CO_RS_I9            object\n",
              "QE_I01              object\n",
              "QE_I02              object\n",
              "QE_I04              object\n",
              "QE_I05              object\n",
              "QE_I06              object\n",
              "QE_I07              object\n",
              "QE_I08              object\n",
              "QE_I10              object\n",
              "QE_I15              object\n",
              "QE_I17              object\n",
              "QE_I18              object\n",
              "QE_I22              object\n",
              "QE_I23              object\n",
              "QE_I27             float64\n",
              "QE_I38             float64\n",
              "QE_I61             float64\n",
              "QE_I62             float64\n",
              "dtype: object"
            ]
          },
          "execution_count": 5,
          "metadata": {},
          "output_type": "execute_result"
        }
      ],
      "source": [
        "microdados.dtypes"
      ]
    },
    {
      "cell_type": "code",
      "execution_count": 6,
      "metadata": {
        "colab": {
          "base_uri": "https://localhost:8080/"
        },
        "id": "ongMaBZFYByl",
        "outputId": "ba8fbafb-84d1-476a-c34f-6a5b846b17cd"
      },
      "outputs": [
        {
          "data": {
            "text/plain": [
              "CO_IES             False\n",
              "CO_CATEGAD         False\n",
              "CO_ORGACAD         False\n",
              "CO_GRUPO           False\n",
              "CO_CURSO           False\n",
              "CO_UF_CURSO        False\n",
              "CO_REGIAO_CURSO    False\n",
              "NU_IDADE           False\n",
              "TP_SEXO            False\n",
              "ANO_FIM_2G         False\n",
              "ANO_IN_GRAD        False\n",
              "IN_MATUT           False\n",
              "IN_VESPER          False\n",
              "IN_NOTURNO         False\n",
              "TP_PRES            False\n",
              "NT_GER              True\n",
              "NT_FG               True\n",
              "NT_OBJ_FG           True\n",
              "NT_DIS_FG           True\n",
              "NT_CE               True\n",
              "NT_OBJ_CE           True\n",
              "NT_DIS_CE           True\n",
              "CO_RS_I9            True\n",
              "QE_I01              True\n",
              "QE_I02              True\n",
              "QE_I04              True\n",
              "QE_I05              True\n",
              "QE_I06              True\n",
              "QE_I07              True\n",
              "QE_I08              True\n",
              "QE_I10              True\n",
              "QE_I15              True\n",
              "QE_I17              True\n",
              "QE_I18              True\n",
              "QE_I22              True\n",
              "QE_I23              True\n",
              "QE_I27              True\n",
              "QE_I38              True\n",
              "QE_I61              True\n",
              "QE_I62              True\n",
              "dtype: bool"
            ]
          },
          "execution_count": 6,
          "metadata": {},
          "output_type": "execute_result"
        }
      ],
      "source": [
        "microdados.isna().any()"
      ]
    },
    {
      "cell_type": "code",
      "execution_count": 7,
      "metadata": {
        "id": "WM52KIAZYBym"
      },
      "outputs": [],
      "source": [
        "microdados2 = microdados.query('CO_GRUPO == 4004 | CO_GRUPO == 5809 | CO_GRUPO == 4005 | CO_GRUPO == 4006 | CO_GRUPO == 5809 | CO_GRUPO == 72 | CO_GRUPO == 79') "
      ]
    },
    {
      "cell_type": "code",
      "execution_count": 8,
      "metadata": {
        "id": "hRHyuD9bYBym"
      },
      "outputs": [],
      "source": [
        "microdados2 = microdados2.loc[microdados2.NT_GER.notnull()]\n",
        "microdados2 = microdados2.loc[microdados2.QE_I02.notnull()]\n",
        "# microdados2 = microdados2.loc[microdados2.QE_I13.notnull()]"
      ]
    },
    {
      "cell_type": "code",
      "execution_count": 9,
      "metadata": {
        "id": "LnLhcqLHYByn"
      },
      "outputs": [],
      "source": [
        "microdados2 = microdados2.astype({'CO_CURSO':int})\n",
        "microdados2 = microdados2.astype({'TP_SEXO':str})\n",
        "microdados2 = microdados2.astype({'TP_PRES':int})\n",
        "microdados2 = microdados2.astype({'NT_GER':float})\n",
        "microdados2 = microdados2.astype({'QE_I01':str})\n",
        "microdados2 = microdados2.astype({'QE_I02':str})\n",
        "microdados2 = microdados2.astype({'QE_I04':str})\n",
        "microdados2 = microdados2.astype({'QE_I05':str})\n",
        "microdados2 = microdados2.astype({'QE_I06':str})\n",
        "microdados2 = microdados2.astype({'QE_I07':str})\n",
        "microdados2 = microdados2.astype({'QE_I08':str})\n",
        "microdados2 = microdados2.astype({'QE_I15':str})\n",
        "microdados2 = microdados2.astype({'QE_I17':str})\n",
        "microdados2 = microdados2.astype({'QE_I18':str})\n",
        "microdados2 = microdados2.astype({'QE_I38':str})\n",
        "microdados2 = microdados2.astype({'QE_I61':str})\n",
        "microdados2 = microdados2.astype({'QE_I62':str})\n",
        "# microdados2 = microdados2.astype({'QE_I65':str})\n",
        "microdados2 = microdados2.astype({'QE_I27':str})"
      ]
    },
    {
      "cell_type": "code",
      "execution_count": 10,
      "metadata": {
        "id": "pBVCrqQjYByp"
      },
      "outputs": [],
      "source": [
        "microdados2 = microdados2.query('TP_PRES == 555')"
      ]
    },
    {
      "cell_type": "code",
      "execution_count": 11,
      "metadata": {
        "id": "S5h5fndYYByp"
      },
      "outputs": [],
      "source": [
        "microdados2['CO_CATEGAD'].replace({93:'IES pública',116:'IES pública',10001:'IES pública',10002:'IES pública',10003:'IES pública'},inplace=True) #publica\n",
        "microdados2['CO_CATEGAD'].replace({118:'IES privada',121:'IES privada',10004:'IES privada',10005:'IES privada',10006:'IES privada',10007:'IES privada',10008:'IES privada',10009:'IES privada'},inplace=True) #privada\n",
        "microdados2 = microdados2.astype({'CO_CATEGAD':str})"
      ]
    },
    {
      "cell_type": "code",
      "execution_count": 12,
      "metadata": {
        "id": "CCPK0tunYByq"
      },
      "outputs": [],
      "source": [
        "estado_dict = {\n",
        "11 : 'RO',12 : 'AC', \n",
        "13 : 'AM',14 : 'RR',\n",
        "15 : 'PA',16 : 'AP',\n",
        "17 : 'TO',21 : 'MA',\n",
        "22 : 'PI',23 : 'CE',\n",
        "24 : 'RN',25 : 'PB',\n",
        "26 : 'PE',27 : 'AL',\n",
        "28 : 'SE',29 : 'BA',\n",
        "31 : 'MG',32 : 'ES',\n",
        "33 : 'RJ',35 : 'SP',\n",
        "41 : 'PR',42 : 'SC',\n",
        "43 : 'RS',50 : 'MS',\n",
        "51 : 'MT',52 : 'GO', \n",
        "53 : 'DF'\n",
        "}\n",
        "\n",
        "microdados2['CO_UF_CURSO'].replace(estado_dict,inplace=True)\n",
        "microdados2 = microdados2.astype({'CO_UF_CURSO':str})"
      ]
    },
    {
      "cell_type": "code",
      "execution_count": 13,
      "metadata": {
        "id": "PANU3YmOYByr"
      },
      "outputs": [],
      "source": [
        "microdados2.loc[(microdados2['IN_MATUT'] + microdados2['IN_VESPER'] + microdados2['IN_NOTURNO']) > 1, 'periodo'] = 'I'\n",
        "microdados2.loc[(microdados2['IN_MATUT'] + microdados2['IN_VESPER'] + microdados2['IN_NOTURNO']) == 1, 'periodo'] = None"
      ]
    },
    {
      "cell_type": "code",
      "execution_count": 14,
      "metadata": {
        "id": "On-wX1fTYByr"
      },
      "outputs": [],
      "source": [
        "microdados2['IN_MATUT'].replace({0:None,1:'M'},inplace=True)\n",
        "microdados2['IN_VESPER'].replace({0:None,1:'V'},inplace=True)\n",
        "microdados2['IN_NOTURNO'].replace({0:None,1:'N'},inplace=True)"
      ]
    },
    {
      "cell_type": "code",
      "execution_count": 15,
      "metadata": {
        "id": "CvwJBbVMYBys"
      },
      "outputs": [],
      "source": [
        "microdados2['periodo'].fillna(microdados2['IN_VESPER'], inplace=True)\n",
        "microdados2['periodo'].fillna(microdados2['IN_MATUT'], inplace=True)\n",
        "microdados2['periodo'].fillna(microdados2['IN_NOTURNO'], inplace=True)"
      ]
    },
    {
      "cell_type": "code",
      "execution_count": 16,
      "metadata": {
        "colab": {
          "base_uri": "https://localhost:8080/",
          "height": 488
        },
        "id": "cxPmIndpYBys",
        "outputId": "d9f238d7-37bd-47e4-b876-42a2774679e4"
      },
      "outputs": [
        {
          "data": {
            "text/html": [
              "<div>\n",
              "<style scoped>\n",
              "    .dataframe tbody tr th:only-of-type {\n",
              "        vertical-align: middle;\n",
              "    }\n",
              "\n",
              "    .dataframe tbody tr th {\n",
              "        vertical-align: top;\n",
              "    }\n",
              "\n",
              "    .dataframe thead th {\n",
              "        text-align: right;\n",
              "    }\n",
              "</style>\n",
              "<table border=\"1\" class=\"dataframe\">\n",
              "  <thead>\n",
              "    <tr style=\"text-align: right;\">\n",
              "      <th></th>\n",
              "      <th>CO_IES</th>\n",
              "      <th>CO_CATEGAD</th>\n",
              "      <th>CO_ORGACAD</th>\n",
              "      <th>CO_GRUPO</th>\n",
              "      <th>CO_CURSO</th>\n",
              "      <th>CO_UF_CURSO</th>\n",
              "      <th>CO_REGIAO_CURSO</th>\n",
              "      <th>NU_IDADE</th>\n",
              "      <th>TP_SEXO</th>\n",
              "      <th>ANO_FIM_2G</th>\n",
              "      <th>...</th>\n",
              "      <th>QE_I15</th>\n",
              "      <th>QE_I17</th>\n",
              "      <th>QE_I18</th>\n",
              "      <th>QE_I22</th>\n",
              "      <th>QE_I23</th>\n",
              "      <th>QE_I27</th>\n",
              "      <th>QE_I38</th>\n",
              "      <th>QE_I61</th>\n",
              "      <th>QE_I62</th>\n",
              "      <th>periodo</th>\n",
              "    </tr>\n",
              "  </thead>\n",
              "  <tbody>\n",
              "    <tr>\n",
              "      <th>595</th>\n",
              "      <td>1</td>\n",
              "      <td>IES pública</td>\n",
              "      <td>10028</td>\n",
              "      <td>4004</td>\n",
              "      <td>36</td>\n",
              "      <td>MT</td>\n",
              "      <td>5</td>\n",
              "      <td>21</td>\n",
              "      <td>M</td>\n",
              "      <td>2009</td>\n",
              "      <td>...</td>\n",
              "      <td>A</td>\n",
              "      <td>A</td>\n",
              "      <td>B</td>\n",
              "      <td>B</td>\n",
              "      <td>D</td>\n",
              "      <td>5.0</td>\n",
              "      <td>5.0</td>\n",
              "      <td>4.0</td>\n",
              "      <td>4.0</td>\n",
              "      <td>I</td>\n",
              "    </tr>\n",
              "    <tr>\n",
              "      <th>597</th>\n",
              "      <td>1</td>\n",
              "      <td>IES pública</td>\n",
              "      <td>10028</td>\n",
              "      <td>4004</td>\n",
              "      <td>36</td>\n",
              "      <td>MT</td>\n",
              "      <td>5</td>\n",
              "      <td>20</td>\n",
              "      <td>M</td>\n",
              "      <td>2010</td>\n",
              "      <td>...</td>\n",
              "      <td>A</td>\n",
              "      <td>A</td>\n",
              "      <td>A</td>\n",
              "      <td>E</td>\n",
              "      <td>C</td>\n",
              "      <td>6.0</td>\n",
              "      <td>5.0</td>\n",
              "      <td>6.0</td>\n",
              "      <td>5.0</td>\n",
              "      <td>I</td>\n",
              "    </tr>\n",
              "    <tr>\n",
              "      <th>600</th>\n",
              "      <td>1</td>\n",
              "      <td>IES pública</td>\n",
              "      <td>10028</td>\n",
              "      <td>4004</td>\n",
              "      <td>36</td>\n",
              "      <td>MT</td>\n",
              "      <td>5</td>\n",
              "      <td>21</td>\n",
              "      <td>M</td>\n",
              "      <td>2009</td>\n",
              "      <td>...</td>\n",
              "      <td>A</td>\n",
              "      <td>A</td>\n",
              "      <td>A</td>\n",
              "      <td>C</td>\n",
              "      <td>E</td>\n",
              "      <td>6.0</td>\n",
              "      <td>6.0</td>\n",
              "      <td>6.0</td>\n",
              "      <td>6.0</td>\n",
              "      <td>I</td>\n",
              "    </tr>\n",
              "    <tr>\n",
              "      <th>601</th>\n",
              "      <td>1</td>\n",
              "      <td>IES pública</td>\n",
              "      <td>10028</td>\n",
              "      <td>4004</td>\n",
              "      <td>36</td>\n",
              "      <td>MT</td>\n",
              "      <td>5</td>\n",
              "      <td>26</td>\n",
              "      <td>F</td>\n",
              "      <td>2005</td>\n",
              "      <td>...</td>\n",
              "      <td>A</td>\n",
              "      <td>A</td>\n",
              "      <td>A</td>\n",
              "      <td>B</td>\n",
              "      <td>D</td>\n",
              "      <td>5.0</td>\n",
              "      <td>5.0</td>\n",
              "      <td>6.0</td>\n",
              "      <td>5.0</td>\n",
              "      <td>I</td>\n",
              "    </tr>\n",
              "    <tr>\n",
              "      <th>602</th>\n",
              "      <td>1</td>\n",
              "      <td>IES pública</td>\n",
              "      <td>10028</td>\n",
              "      <td>4004</td>\n",
              "      <td>36</td>\n",
              "      <td>MT</td>\n",
              "      <td>5</td>\n",
              "      <td>22</td>\n",
              "      <td>M</td>\n",
              "      <td>2007</td>\n",
              "      <td>...</td>\n",
              "      <td>A</td>\n",
              "      <td>A</td>\n",
              "      <td>A</td>\n",
              "      <td>C</td>\n",
              "      <td>C</td>\n",
              "      <td>4.0</td>\n",
              "      <td>4.0</td>\n",
              "      <td>6.0</td>\n",
              "      <td>6.0</td>\n",
              "      <td>I</td>\n",
              "    </tr>\n",
              "    <tr>\n",
              "      <th>...</th>\n",
              "      <td>...</td>\n",
              "      <td>...</td>\n",
              "      <td>...</td>\n",
              "      <td>...</td>\n",
              "      <td>...</td>\n",
              "      <td>...</td>\n",
              "      <td>...</td>\n",
              "      <td>...</td>\n",
              "      <td>...</td>\n",
              "      <td>...</td>\n",
              "      <td>...</td>\n",
              "      <td>...</td>\n",
              "      <td>...</td>\n",
              "      <td>...</td>\n",
              "      <td>...</td>\n",
              "      <td>...</td>\n",
              "      <td>...</td>\n",
              "      <td>...</td>\n",
              "      <td>...</td>\n",
              "      <td>...</td>\n",
              "      <td>...</td>\n",
              "    </tr>\n",
              "    <tr>\n",
              "      <th>481708</th>\n",
              "      <td>47</td>\n",
              "      <td>IES pública</td>\n",
              "      <td>10028</td>\n",
              "      <td>4005</td>\n",
              "      <td>5001162</td>\n",
              "      <td>GO</td>\n",
              "      <td>5</td>\n",
              "      <td>31</td>\n",
              "      <td>F</td>\n",
              "      <td>2001</td>\n",
              "      <td>...</td>\n",
              "      <td>A</td>\n",
              "      <td>A</td>\n",
              "      <td>C</td>\n",
              "      <td>B</td>\n",
              "      <td>B</td>\n",
              "      <td>2.0</td>\n",
              "      <td>2.0</td>\n",
              "      <td>2.0</td>\n",
              "      <td>2.0</td>\n",
              "      <td>I</td>\n",
              "    </tr>\n",
              "    <tr>\n",
              "      <th>481715</th>\n",
              "      <td>47</td>\n",
              "      <td>IES pública</td>\n",
              "      <td>10028</td>\n",
              "      <td>4005</td>\n",
              "      <td>5001162</td>\n",
              "      <td>GO</td>\n",
              "      <td>5</td>\n",
              "      <td>36</td>\n",
              "      <td>F</td>\n",
              "      <td>1998</td>\n",
              "      <td>...</td>\n",
              "      <td>F</td>\n",
              "      <td>A</td>\n",
              "      <td>A</td>\n",
              "      <td>E</td>\n",
              "      <td>C</td>\n",
              "      <td>6.0</td>\n",
              "      <td>5.0</td>\n",
              "      <td>5.0</td>\n",
              "      <td>6.0</td>\n",
              "      <td>I</td>\n",
              "    </tr>\n",
              "    <tr>\n",
              "      <th>481716</th>\n",
              "      <td>47</td>\n",
              "      <td>IES pública</td>\n",
              "      <td>10028</td>\n",
              "      <td>4005</td>\n",
              "      <td>5001162</td>\n",
              "      <td>GO</td>\n",
              "      <td>5</td>\n",
              "      <td>32</td>\n",
              "      <td>M</td>\n",
              "      <td>2002</td>\n",
              "      <td>...</td>\n",
              "      <td>A</td>\n",
              "      <td>A</td>\n",
              "      <td>A</td>\n",
              "      <td>B</td>\n",
              "      <td>A</td>\n",
              "      <td>5.0</td>\n",
              "      <td>5.0</td>\n",
              "      <td>5.0</td>\n",
              "      <td>6.0</td>\n",
              "      <td>I</td>\n",
              "    </tr>\n",
              "    <tr>\n",
              "      <th>481718</th>\n",
              "      <td>47</td>\n",
              "      <td>IES pública</td>\n",
              "      <td>10028</td>\n",
              "      <td>4005</td>\n",
              "      <td>5001162</td>\n",
              "      <td>GO</td>\n",
              "      <td>5</td>\n",
              "      <td>41</td>\n",
              "      <td>F</td>\n",
              "      <td>1990</td>\n",
              "      <td>...</td>\n",
              "      <td>A</td>\n",
              "      <td>A</td>\n",
              "      <td>C</td>\n",
              "      <td>E</td>\n",
              "      <td>B</td>\n",
              "      <td>5.0</td>\n",
              "      <td>5.0</td>\n",
              "      <td>4.0</td>\n",
              "      <td>4.0</td>\n",
              "      <td>I</td>\n",
              "    </tr>\n",
              "    <tr>\n",
              "      <th>481719</th>\n",
              "      <td>47</td>\n",
              "      <td>IES pública</td>\n",
              "      <td>10028</td>\n",
              "      <td>4005</td>\n",
              "      <td>5001162</td>\n",
              "      <td>GO</td>\n",
              "      <td>5</td>\n",
              "      <td>31</td>\n",
              "      <td>M</td>\n",
              "      <td>2003</td>\n",
              "      <td>...</td>\n",
              "      <td>A</td>\n",
              "      <td>A</td>\n",
              "      <td>A</td>\n",
              "      <td>C</td>\n",
              "      <td>E</td>\n",
              "      <td>6.0</td>\n",
              "      <td>6.0</td>\n",
              "      <td>6.0</td>\n",
              "      <td>6.0</td>\n",
              "      <td>I</td>\n",
              "    </tr>\n",
              "  </tbody>\n",
              "</table>\n",
              "<p>40787 rows × 41 columns</p>\n",
              "</div>"
            ],
            "text/plain": [
              "       CO_IES   CO_CATEGAD  CO_ORGACAD  CO_GRUPO  CO_CURSO CO_UF_CURSO  \\\n",
              "595         1  IES pública       10028      4004        36          MT   \n",
              "597         1  IES pública       10028      4004        36          MT   \n",
              "600         1  IES pública       10028      4004        36          MT   \n",
              "601         1  IES pública       10028      4004        36          MT   \n",
              "602         1  IES pública       10028      4004        36          MT   \n",
              "...       ...          ...         ...       ...       ...         ...   \n",
              "481708     47  IES pública       10028      4005   5001162          GO   \n",
              "481715     47  IES pública       10028      4005   5001162          GO   \n",
              "481716     47  IES pública       10028      4005   5001162          GO   \n",
              "481718     47  IES pública       10028      4005   5001162          GO   \n",
              "481719     47  IES pública       10028      4005   5001162          GO   \n",
              "\n",
              "        CO_REGIAO_CURSO  NU_IDADE TP_SEXO  ANO_FIM_2G  ...  QE_I15 QE_I17  \\\n",
              "595                   5        21       M        2009  ...       A      A   \n",
              "597                   5        20       M        2010  ...       A      A   \n",
              "600                   5        21       M        2009  ...       A      A   \n",
              "601                   5        26       F        2005  ...       A      A   \n",
              "602                   5        22       M        2007  ...       A      A   \n",
              "...                 ...       ...     ...         ...  ...     ...    ...   \n",
              "481708                5        31       F        2001  ...       A      A   \n",
              "481715                5        36       F        1998  ...       F      A   \n",
              "481716                5        32       M        2002  ...       A      A   \n",
              "481718                5        41       F        1990  ...       A      A   \n",
              "481719                5        31       M        2003  ...       A      A   \n",
              "\n",
              "       QE_I18 QE_I22  QE_I23  QE_I27 QE_I38 QE_I61 QE_I62 periodo  \n",
              "595         B      B       D     5.0    5.0    4.0    4.0       I  \n",
              "597         A      E       C     6.0    5.0    6.0    5.0       I  \n",
              "600         A      C       E     6.0    6.0    6.0    6.0       I  \n",
              "601         A      B       D     5.0    5.0    6.0    5.0       I  \n",
              "602         A      C       C     4.0    4.0    6.0    6.0       I  \n",
              "...       ...    ...     ...     ...    ...    ...    ...     ...  \n",
              "481708      C      B       B     2.0    2.0    2.0    2.0       I  \n",
              "481715      A      E       C     6.0    5.0    5.0    6.0       I  \n",
              "481716      A      B       A     5.0    5.0    5.0    6.0       I  \n",
              "481718      C      E       B     5.0    5.0    4.0    4.0       I  \n",
              "481719      A      C       E     6.0    6.0    6.0    6.0       I  \n",
              "\n",
              "[40787 rows x 41 columns]"
            ]
          },
          "execution_count": 16,
          "metadata": {},
          "output_type": "execute_result"
        }
      ],
      "source": [
        "microdados2"
      ]
    },
    {
      "cell_type": "code",
      "execution_count": 17,
      "metadata": {
        "id": "IIv86frsYByt"
      },
      "outputs": [],
      "source": [
        "microdados2.drop(columns=['IN_MATUT','IN_VESPER','IN_NOTURNO','TP_PRES'],inplace=True)"
      ]
    },
    {
      "cell_type": "code",
      "execution_count": 18,
      "metadata": {
        "id": "hKuYV7jCYByu"
      },
      "outputs": [],
      "source": [
        "microdados2['QE_I08'].replace({'B':'A'},inplace=True) #ate 3 salarios\n",
        "microdados2['QE_I08'].replace({'C':'B','D':'B','E':'B'},inplace=True) #3 a 10 salarios \n",
        "microdados2['QE_I08'].replace({'F':'C'},inplace=True) #10 a 30 salarios \n",
        "microdados2['QE_I08'].replace({'G':'D'},inplace=True) #mais de 30 salarios "
      ]
    },
    {
      "cell_type": "code",
      "execution_count": 19,
      "metadata": {
        "id": "Z5MRWugJYByv"
      },
      "outputs": [],
      "source": [
        "microdados2['QE_I17'].replace({'D':'A'},inplace=True) #todo tempo ou maior parte pub\n",
        "microdados2['QE_I17'].replace({'E':'B'},inplace=True) #todo tempo ou maior parte privada\n",
        "microdados2['QE_I17'].replace({'F':'C'},inplace=True) #todo tempo ou maior parte exterior"
      ]
    },
    {
      "cell_type": "code",
      "execution_count": 20,
      "metadata": {
        "id": "uvjOixjBYByw"
      },
      "outputs": [],
      "source": [
        "microdados2['CO_ORGACAD'].replace({10028:'Universidade',10020:'Centro Universitário',10022:'Faculdade',10026:'I.F.E', 10019:'C.F.E.T'},inplace=True)"
      ]
    },
    {
      "cell_type": "code",
      "execution_count": 21,
      "metadata": {
        "id": "fDfGnHdBYByx"
      },
      "outputs": [],
      "source": [
        "microdados2['QE_I10'].replace({'A':'Não','B':'Sim','C':'Sim','D':'Sim','E':'Sim'},inplace=True)"
      ]
    },
    {
      "cell_type": "code",
      "execution_count": 22,
      "metadata": {
        "id": "HhRsTgj4YByx"
      },
      "outputs": [],
      "source": [
        "microdados2['QE_I22'].replace({'A':'0','B':'1/2','C':'3-5','D':'6-8','E':'8+'},inplace=True)\n"
      ]
    },
    {
      "cell_type": "code",
      "execution_count": 23,
      "metadata": {
        "id": "zG8k9JyYYByz"
      },
      "outputs": [],
      "source": [
        "microdados2['QE_I23'].replace({'A':'0','B':'<3','C':'3-8','D':'8+','E':'8+'},inplace=True)\n"
      ]
    },
    {
      "cell_type": "markdown",
      "metadata": {
        "id": "J3KZO4-XYBy0"
      },
      "source": [
        "# Adição de novos valores: \n",
        "\n",
        "- QE_I01:\n",
        "    - Estado cívil\n",
        "- QE_I06:\n",
        "    - Onde o aluno mora atualmente\n",
        "- QE_I07:\n",
        "    - Quantas pessoas moram com o aluno\n",
        "- QE_I18:\n",
        "    - Tipo de ensino médio que o aluno concluiu\n",
        "- QE_I38: \n",
        "    - Plano de ensino dos professores\n",
        "- QE_I61: \n",
        "    - Salas de aula adequadas para a quantidade de alunos\n",
        "- QE_I62: \n",
        "    - Equipamento para as aulas praticas suficentes\n",
        "- QE_I27: \n",
        "    - Avaliação da contribuição do curso"
      ]
    },
    {
      "cell_type": "code",
      "execution_count": 24,
      "metadata": {
        "id": "A0ZuAX84YBy2"
      },
      "outputs": [],
      "source": [
        "microdados2['QE_I01'].replace({'A':'Solteiro','B':'Casado','C':'Divorciado','D':'Viúvo','E':'Outro'},inplace=True)\n",
        "microdados2['QE_I06'].replace({'A':'Sozinho','B':'Parentes','C':'Cônjuge/filhos','D':'Outras pessoas','E':'Universidade', 'F': 'Habitação individual/coletiva'},inplace=True)\n",
        "microdados2['QE_I07'].replace({'A':'Nenhuma','B':'Uma','C':'Duas','D':'Três','E':'Quatro', 'F': 'Cinco', 'G': 'Seis', 'H': 'Mais de seis'},inplace=True)\n",
        "microdados2['QE_I18'].replace({'A':'EM tradicional','B':'Profissionalizante técnico','C':'Profissionalizante magistério','D':'EJA/Supletivo', 'E': 'Outro'} ,inplace=True)\n",
        "microdados2['QE_I38'].replace({'6.0':'Todos aspectos', '5.0': 'Maior parte', '4.0':'Maior parte','3.0': 'Somente alguns', '2.0':'Somente alguns', '1.0':'Nenhum', '7.0':'Nenhum', '8.0':'Não se aplica'} ,inplace=True)\n",
        "microdados2['QE_I61'].replace({'6.0':'Todas', '5.0': 'Maior parte', '4.0':'Maior parte','3.0': 'Algumas', '2.0':'Algumas', '1.0':'Nenhuma', '7.0':'Nenhuma', '8.0':'Não se aplica'} ,inplace=True)\n",
        "microdados2['QE_I62'].replace({'6.0':'Todas', '5.0': 'Maior parte', '4.0':'Maior parte','3.0': 'Algumas', '2.0':'Algumas', '1.0':'Nenhuma', '7.0':'Nenhuma', '8.0':'Não se aplica'} ,inplace=True)\n",
        "# microdados2['QE_I65'].replace({'6.0':'Todas', '5.0': 'Maior parte', '4.0':'Maior parte','3.0': 'Algumas', '2.0':'Algumas', '1.0':'Nenhuma', '7.0':'Nenhuma', '8.0':'Não se aplica'} ,inplace=True)\n",
        "microdados2['QE_I27'].replace({'6.0':'Muito boa', '5.0':'Boa', '4.0':'Regular', '3.0': 'Regular', '2.0': 'Fraca', '1.0': 'Muito fraca', '7.0':'Muito fraca', '8.0':'Não se aplica'} ,inplace=True)"
      ]
    },
    {
      "cell_type": "code",
      "execution_count": 25,
      "metadata": {
        "id": "1AaU-gujYBy2"
      },
      "outputs": [],
      "source": [
        "coluna_map = {\n",
        "    'CO_CATEGAD':'categoria_adm',\n",
        "    'CO_GRUPO':'grupo',\n",
        "    'CO_CURSO':'curso',\n",
        "    'CO_UF_CURSO':'uf',\n",
        "    'CO_REGIAO_CURSO':'regiao',\n",
        "    'NU_IDADE':'idade',\n",
        "    'TP_SEXO':'sexo',\n",
        "    'ANO_FIM_2G':'formatura_medio',\n",
        "    'ANO_IN_GRAD':'inicio_graduacao',\n",
        "    'NT_GER':'nota_geral',\n",
        "    'NT_FG':'nota_formacao_geral',\n",
        "    'NT_OBJ_FG':'nota_obj_formacao_geral',\n",
        "    'NT_DIS_FG':'nota_disc_formacao_geral',\n",
        "    'NT_CE':'nota_componente_especifico',\n",
        "    'NT_OBJ_CE':'nota_obj_componente_especifico',\n",
        "    'NT_DIS_CE':'nota_disc_componente_especifico',\n",
        "    'QE_I01':'estado_civil',\n",
        "    'QE_I02':'cor_raca',\n",
        "    'QE_I04':'escolaridade_pai',\n",
        "    'QE_I05':'escolaridade_mae',\n",
        "    'QE_I06':'moradia',\n",
        "    'QE_I07':'pessoas_moradia',\n",
        "    'QE_I08':'renda_familiar',\n",
        "    'QE_I15':'cotas',\n",
        "    'QE_I17':'tipo_ensino_medio',\n",
        "    'QE_I18': 'ensino_medio',\n",
        "    'periodo':'turno',\n",
        "    'CO_IES':'codigo_IES',\n",
        "    'CO_ORGACAD':'organizacao_academica',\n",
        "    'QE_I10':'trabalha',\n",
        "    'QE_I22':'livros_ano',\n",
        "    'QE_I23':'horas_estudo',\n",
        "    'QE_I38':'plano_ensino',\n",
        "    'QE_I61':'condicoes_salas_estudantes',\n",
        "    'QE_I62':'condicoes_praticas_materiais',\n",
        "    'QE_I27':'avaliacao_curso'\n",
        "}"
      ]
    },
    {
      "cell_type": "code",
      "execution_count": 26,
      "metadata": {
        "id": "q5I9DEjBYBy3"
      },
      "outputs": [],
      "source": [
        "microdados2.rename(columns=coluna_map,inplace=True)"
      ]
    },
    {
      "cell_type": "code",
      "execution_count": 27,
      "metadata": {
        "id": "dAr4hxpJYBy4"
      },
      "outputs": [],
      "source": [
        "microdados2['grupo'].replace({72: 'ADS', 79:'RC',5809: 'EC', 4004:'BCC',4005:'LCC',4006: 'SI'},inplace=True)\n",
        "microdados2 = microdados2.astype({'grupo':str})"
      ]
    },
    {
      "cell_type": "code",
      "execution_count": 28,
      "metadata": {
        "id": "bLHhAvF5YBy4"
      },
      "outputs": [],
      "source": [
        "microdados2['cor_raca'].replace({'A':'Branca','B':'Preta','C':'Parda','D':'Amarela','E':'Indígena'},inplace=True)"
      ]
    },
    {
      "cell_type": "code",
      "execution_count": 29,
      "metadata": {
        "id": "8eFZe6mfYBy5"
      },
      "outputs": [],
      "source": [
        "microdados2['recebeu_cota'] = microdados2['cotas'].replace({'A':'Não','B':'Sim','C':'Sim','D':'Sim','E':'Sim','F':'Sim'})"
      ]
    },
    {
      "cell_type": "code",
      "execution_count": 30,
      "metadata": {
        "id": "A9-4vCH0YBy5"
      },
      "outputs": [],
      "source": [
        "microdados2['cotas'].replace({'A':'Não','B':'Étnico Racial','C':'Renda','D':'EM público','E':'2+','F':'Outro'},inplace=True)"
      ]
    },
    {
      "cell_type": "code",
      "execution_count": 31,
      "metadata": {
        "id": "8GuCrRl6YBy6"
      },
      "outputs": [],
      "source": [
        "# microdados2['recebeu_bolsa'] = microdados2['bolsa_academica']\n",
        "# microdados2['recebeu_bolsa'].replace({'C':'B','D':'B','E':'B','F':'B'},inplace=True)\n",
        "# microdados2['recebeu_bolsa'].replace({'A':'Não','B':'Sim'},inplace=True)"
      ]
    },
    {
      "cell_type": "code",
      "execution_count": 32,
      "metadata": {
        "id": "wKwUpcHJYBy6"
      },
      "outputs": [],
      "source": [
        "# microdados2['bolsa_academica'].replace({'A':'Nenhum','B':'IC','C':'Extensão','D':'Monitoria','E':'PET','F':'Outro'},inplace=True)"
      ]
    },
    {
      "cell_type": "code",
      "execution_count": 33,
      "metadata": {
        "id": "RdEFOUuoYBy6"
      },
      "outputs": [],
      "source": [
        "microdados2['renda_familiar'].replace({'A':'<3','B':'3-10','C':'10-30','D':'30+'},inplace=True)"
      ]
    },
    {
      "cell_type": "code",
      "execution_count": 34,
      "metadata": {
        "id": "Jg7YAy1xYBy7"
      },
      "outputs": [],
      "source": [
        "microdados2['escolaridade_pai'].replace({'A':'Nenhuma','B':'1°-5° EF','C':'6°-9° EF','D':'Ensino Médio','E':'Graduação','F':'Pós-graduação'},inplace=True)\n",
        "microdados2['escolaridade_mae'].replace({'A':'Nenhuma','B':'1°-5° EF','C':'6°-9° EF','D':'Ensino Médio','E':'Graduação','F':'Pós-graduação'},inplace=True)"
      ]
    },
    {
      "cell_type": "code",
      "execution_count": 35,
      "metadata": {
        "id": "UnOj0xI9YBy7"
      },
      "outputs": [],
      "source": [
        "bins = [17, 25, 30, 40, 50, 100]\n",
        "labels = ['17-24', '25-29', '30-39', '40-49', '50+']\n",
        "microdados2['range_idade'] = pd.cut(microdados2['idade'], bins, labels = labels,include_lowest = True)"
      ]
    },
    {
      "cell_type": "code",
      "execution_count": 36,
      "metadata": {
        "id": "am0_CVqpYBy7"
      },
      "outputs": [],
      "source": [
        "# microdados2['ead_presencial'].replace({0:'EAD',1:'Presencial'},inplace=True)\n",
        "# microdados2 = microdados2.astype({'ead_presencial':str})"
      ]
    },
    {
      "cell_type": "code",
      "execution_count": 37,
      "metadata": {
        "id": "WbCtsthIYBy8"
      },
      "outputs": [],
      "source": [
        "microdados2['regiao'].replace({1:'N',2:'NE',3:'SE',4:'S',5:'CO'},inplace=True)\n",
        "microdados2 = microdados2.astype({'regiao':str})"
      ]
    },
    {
      "cell_type": "code",
      "execution_count": 38,
      "metadata": {
        "id": "SAJsgf38YBy8"
      },
      "outputs": [],
      "source": [
        "microdados2.drop(columns=['CO_RS_I9'],inplace=True)"
      ]
    },
    {
      "cell_type": "code",
      "execution_count": 39,
      "metadata": {
        "id": "JHNw9FI9YBy8"
      },
      "outputs": [],
      "source": [
        "microdados2.rename(columns={'grupo':'nome_curso'},inplace=True)"
      ]
    },
    {
      "cell_type": "code",
      "execution_count": 40,
      "metadata": {
        "id": "-Icfrvg5YBy8"
      },
      "outputs": [],
      "source": [
        "microdados2['tipo_ensino_medio'].replace({'A':'Pública','B':'Particular','C':'Exterior'},inplace=True)"
      ]
    },
    {
      "cell_type": "code",
      "execution_count": 41,
      "metadata": {
        "colab": {
          "base_uri": "https://localhost:8080/"
        },
        "id": "1dUR7TAeYBy9",
        "outputId": "de7f1d26-56d9-465b-aab2-965cd2aab8f3"
      },
      "outputs": [
        {
          "data": {
            "text/plain": [
              "codigo_IES                         False\n",
              "categoria_adm                      False\n",
              "organizacao_academica              False\n",
              "nome_curso                         False\n",
              "curso                              False\n",
              "uf                                 False\n",
              "regiao                             False\n",
              "idade                              False\n",
              "sexo                               False\n",
              "formatura_medio                    False\n",
              "inicio_graduacao                   False\n",
              "nota_geral                         False\n",
              "nota_formacao_geral                False\n",
              "nota_obj_formacao_geral            False\n",
              "nota_disc_formacao_geral           False\n",
              "nota_componente_especifico         False\n",
              "nota_obj_componente_especifico     False\n",
              "nota_disc_componente_especifico    False\n",
              "estado_civil                       False\n",
              "cor_raca                           False\n",
              "escolaridade_pai                   False\n",
              "escolaridade_mae                   False\n",
              "moradia                            False\n",
              "pessoas_moradia                    False\n",
              "renda_familiar                     False\n",
              "trabalha                           False\n",
              "cotas                              False\n",
              "tipo_ensino_medio                  False\n",
              "ensino_medio                       False\n",
              "livros_ano                          True\n",
              "horas_estudo                        True\n",
              "avaliacao_curso                    False\n",
              "plano_ensino                       False\n",
              "condicoes_salas_estudantes         False\n",
              "condicoes_praticas_materiais       False\n",
              "turno                              False\n",
              "recebeu_cota                       False\n",
              "range_idade                        False\n",
              "dtype: bool"
            ]
          },
          "execution_count": 41,
          "metadata": {},
          "output_type": "execute_result"
        }
      ],
      "source": [
        "microdados2.isna().any()"
      ]
    },
    {
      "cell_type": "code",
      "execution_count": 42,
      "metadata": {
        "colab": {
          "base_uri": "https://localhost:8080/",
          "height": 140
        },
        "id": "GT1guNAHYBy9",
        "outputId": "d5fb87d8-bcc5-4952-aa3b-14be222f9dd2"
      },
      "outputs": [],
      "source": [
        "microdados2 = microdados2.loc[microdados2.livros_ano.notnull()]\n",
        "microdados2 = microdados2.loc[microdados2.horas_estudo.notnull()]"
      ]
    },
    {
      "cell_type": "code",
      "execution_count": 43,
      "metadata": {
        "colab": {
          "base_uri": "https://localhost:8080/"
        },
        "id": "ANVjE4A4YBy_",
        "outputId": "3a448fd2-7037-4562-c5e0-fc7526a9c3bd"
      },
      "outputs": [
        {
          "name": "stdout",
          "output_type": "stream",
          "text": [
            "<class 'pandas.core.frame.DataFrame'>\n",
            "Int64Index: 40785 entries, 595 to 481719\n",
            "Data columns (total 38 columns):\n",
            " #   Column                           Non-Null Count  Dtype   \n",
            "---  ------                           --------------  -----   \n",
            " 0   codigo_IES                       40785 non-null  object  \n",
            " 1   categoria_adm                    40785 non-null  object  \n",
            " 2   organizacao_academica            40785 non-null  object  \n",
            " 3   nome_curso                       40785 non-null  object  \n",
            " 4   curso                            40785 non-null  int64   \n",
            " 5   uf                               40785 non-null  object  \n",
            " 6   regiao                           40785 non-null  object  \n",
            " 7   idade                            40785 non-null  int64   \n",
            " 8   sexo                             40785 non-null  object  \n",
            " 9   formatura_medio                  40785 non-null  int64   \n",
            " 10  inicio_graduacao                 40785 non-null  int64   \n",
            " 11  nota_geral                       40785 non-null  float64 \n",
            " 12  nota_formacao_geral              40785 non-null  object  \n",
            " 13  nota_obj_formacao_geral          40785 non-null  object  \n",
            " 14  nota_disc_formacao_geral         40785 non-null  object  \n",
            " 15  nota_componente_especifico       40785 non-null  object  \n",
            " 16  nota_obj_componente_especifico   40785 non-null  object  \n",
            " 17  nota_disc_componente_especifico  40785 non-null  object  \n",
            " 18  estado_civil                     40785 non-null  object  \n",
            " 19  cor_raca                         40785 non-null  object  \n",
            " 20  escolaridade_pai                 40785 non-null  object  \n",
            " 21  escolaridade_mae                 40785 non-null  object  \n",
            " 22  moradia                          40785 non-null  object  \n",
            " 23  pessoas_moradia                  40785 non-null  object  \n",
            " 24  renda_familiar                   40785 non-null  object  \n",
            " 25  trabalha                         40785 non-null  object  \n",
            " 26  cotas                            40785 non-null  object  \n",
            " 27  tipo_ensino_medio                40785 non-null  object  \n",
            " 28  ensino_medio                     40785 non-null  object  \n",
            " 29  livros_ano                       40785 non-null  object  \n",
            " 30  horas_estudo                     40785 non-null  object  \n",
            " 31  avaliacao_curso                  40785 non-null  object  \n",
            " 32  plano_ensino                     40785 non-null  object  \n",
            " 33  condicoes_salas_estudantes       40785 non-null  object  \n",
            " 34  condicoes_praticas_materiais     40785 non-null  object  \n",
            " 35  turno                            40785 non-null  object  \n",
            " 36  recebeu_cota                     40785 non-null  object  \n",
            " 37  range_idade                      40785 non-null  category\n",
            "dtypes: category(1), float64(1), int64(4), object(32)\n",
            "memory usage: 11.9+ MB\n"
          ]
        }
      ],
      "source": [
        "microdados2.info()"
      ]
    },
    {
      "cell_type": "code",
      "execution_count": 44,
      "metadata": {},
      "outputs": [
        {
          "data": {
            "text/plain": [
              "False"
            ]
          },
          "execution_count": 44,
          "metadata": {},
          "output_type": "execute_result"
        }
      ],
      "source": [
        "microdados2.isnull().values.any()"
      ]
    },
    {
      "cell_type": "code",
      "execution_count": 45,
      "metadata": {},
      "outputs": [],
      "source": [
        "colunas = list(microdados2.columns)\n",
        "\n",
        "for i in colunas:\n",
        "    microdados2 = microdados2.loc[microdados2[i] != 'nan']"
      ]
    },
    {
      "cell_type": "code",
      "execution_count": 46,
      "metadata": {
        "id": "InxeiszxYBy_"
      },
      "outputs": [],
      "source": [
        "microdados2.to_csv('./{}.csv'.format('computacao_enade_2014'),index=False)"
      ]
    }
  ],
  "metadata": {
    "colab": {
      "name": "analise_2014.ipynb",
      "provenance": []
    },
    "interpreter": {
      "hash": "916dbcbb3f70747c44a77c7bcd40155683ae19c65e1c03b4aa3499c5328201f1"
    },
    "kernelspec": {
      "display_name": "Python 3.8.10 64-bit",
      "name": "python3"
    },
    "language_info": {
      "codemirror_mode": {
        "name": "ipython",
        "version": 3
      },
      "file_extension": ".py",
      "mimetype": "text/x-python",
      "name": "python",
      "nbconvert_exporter": "python",
      "pygments_lexer": "ipython3",
      "version": "3.8.10"
    },
    "metadata": {
      "interpreter": {
        "hash": "916dbcbb3f70747c44a77c7bcd40155683ae19c65e1c03b4aa3499c5328201f1"
      }
    }
  },
  "nbformat": 4,
  "nbformat_minor": 0
}
