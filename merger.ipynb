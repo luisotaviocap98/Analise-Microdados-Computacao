{
 "cells": [
  {
   "cell_type": "code",
   "execution_count": 1,
   "metadata": {},
   "outputs": [],
   "source": [
    "import pandas as pd\n",
    "import os\n",
    "import matplotlib.pyplot as plt"
   ]
  },
  {
   "cell_type": "code",
   "execution_count": 2,
   "metadata": {},
   "outputs": [],
   "source": [
    "# enade_2005 = pd.read_csv('computacao_enade_2005.csv',sep=',',decimal='.')\n",
    "enade_2008 = pd.read_csv('computacao_enade_2008.csv',sep=',',decimal='.')\n",
    "enade_2011 = pd.read_csv('computacao_enade_2011.csv',sep=',',decimal='.')\n",
    "enade_2014 = pd.read_csv('computacao_enade_2014.csv',sep=',',decimal='.')\n",
    "enade_2017 = pd.read_csv('computacao_enade_2017.csv',sep=',',decimal='.')"
   ]
  },
  {
   "cell_type": "code",
   "execution_count": 3,
   "metadata": {},
   "outputs": [],
   "source": [
    "# enade_2005['ano'] = '2005' \n",
    "enade_2008['ano'] = '2008'\n",
    "enade_2011['ano'] = '2011'\n",
    "enade_2014['ano'] = '2014'\n",
    "enade_2017['ano'] = '2017'"
   ]
  },
  {
   "cell_type": "code",
   "execution_count": 4,
   "metadata": {},
   "outputs": [],
   "source": [
    "frames = [\n",
    "    # enade_2005, \n",
    "    enade_2008, \n",
    "    enade_2011, \n",
    "    enade_2014, \n",
    "    enade_2017]\n",
    "enade_merge = pd.concat(frames)"
   ]
  },
  {
   "cell_type": "code",
   "execution_count": 5,
   "metadata": {},
   "outputs": [],
   "source": [
    "enade_merge['cotas'].replace(['*','.'],'Não',inplace=True)\n",
    "enade_merge['cotas'].fillna('Não',inplace=True)"
   ]
  },
  {
   "cell_type": "code",
   "execution_count": 6,
   "metadata": {},
   "outputs": [],
   "source": [
    "enade_merge['cor_raca'].replace(['*','.'],'ND',inplace=True)\n",
    "enade_merge['cor_raca'].fillna('ND',inplace=True)"
   ]
  },
  {
   "cell_type": "code",
   "execution_count": 7,
   "metadata": {},
   "outputs": [],
   "source": [
    "enade_merge['renda_familiar'].replace(['*','.'],'Nenhuma',inplace=True)\n",
    "enade_merge['renda_familiar'].fillna('Nenhuma',inplace=True)"
   ]
  },
  {
   "cell_type": "code",
   "execution_count": 8,
   "metadata": {},
   "outputs": [],
   "source": [
    "enade_merge['escolaridade_pai'].replace(['*','.'],'Nenhuma',inplace=True)\n",
    "enade_merge['escolaridade_pai'].fillna('Nenhuma',inplace=True)"
   ]
  },
  {
   "cell_type": "code",
   "execution_count": 9,
   "metadata": {},
   "outputs": [],
   "source": [
    "enade_merge['escolaridade_mae'].replace(['*','.'],'Nenhuma',inplace=True)\n",
    "enade_merge['escolaridade_mae'].fillna('Nenhuma',inplace=True)"
   ]
  },
  {
   "cell_type": "code",
   "execution_count": 10,
   "metadata": {},
   "outputs": [],
   "source": [
    "enade_merge['recebeu_bolsa'].fillna('Não',inplace=True)"
   ]
  },
  {
   "cell_type": "code",
   "execution_count": 11,
   "metadata": {},
   "outputs": [],
   "source": [
    "enade_merge['bolsa_academica'].fillna('Nenhum',inplace=True)"
   ]
  },
  {
   "cell_type": "code",
   "execution_count": 12,
   "metadata": {},
   "outputs": [],
   "source": [
    "enade_merge['recebeu_cota'].replace(['*','.'],'Não',inplace=True)\n",
    "enade_merge['recebeu_cota'].fillna('Não',inplace=True)"
   ]
  },
  {
   "cell_type": "code",
   "execution_count": 13,
   "metadata": {},
   "outputs": [],
   "source": [
    "enade_merge['tipo_ensino_medio'].replace(['*','.'],'Não-Informado',inplace=True)\n",
    "enade_merge['tipo_ensino_medio'].fillna('Não-Informado',inplace=True)"
   ]
  },
  {
   "cell_type": "code",
   "execution_count": 14,
   "metadata": {},
   "outputs": [],
   "source": [
    "enade_merge['turno'].replace(['V','M'],'D',inplace=True)\n",
    "enade_merge['turno'].fillna('Não-Informado',inplace=True)"
   ]
  },
  {
   "cell_type": "code",
   "execution_count": 15,
   "metadata": {},
   "outputs": [],
   "source": [
    "enade_merge['ead_presencial'].fillna('Não-Informado',inplace=True)"
   ]
  },
  {
   "cell_type": "code",
   "execution_count": 16,
   "metadata": {},
   "outputs": [],
   "source": [
    "enade_merge['trabalha'].replace(['*','.'],'Não-Informado',inplace=True)\n",
    "enade_merge['trabalha'].fillna('Não-Informado',inplace=True)"
   ]
  },
  {
   "cell_type": "code",
   "execution_count": 17,
   "metadata": {},
   "outputs": [],
   "source": [
    "enade_merge['estado_civil'].fillna('Não-Informado',inplace=True)"
   ]
  },
  {
   "cell_type": "code",
   "execution_count": 18,
   "metadata": {},
   "outputs": [],
   "source": [
    "enade_merge['moradia'].fillna('Não-Informado',inplace=True)"
   ]
  },
  {
   "cell_type": "code",
   "execution_count": 19,
   "metadata": {},
   "outputs": [],
   "source": [
    "enade_merge['pessoas_moradia'].fillna('Não-Informado',inplace=True)"
   ]
  },
  {
   "cell_type": "code",
   "execution_count": 20,
   "metadata": {},
   "outputs": [],
   "source": [
    "\n",
    "enade_merge['ensino_medio'].fillna('Não-Informado',inplace=True)"
   ]
  },
  {
   "cell_type": "code",
   "execution_count": 21,
   "metadata": {},
   "outputs": [],
   "source": [
    "enade_merge['condicoes_salas_estudantes'].fillna('Não-Informado',inplace=True)"
   ]
  },
  {
   "cell_type": "code",
   "execution_count": 22,
   "metadata": {},
   "outputs": [],
   "source": [
    "enade_merge['condicoes_praticas_materiais'].fillna('Não-Informado',inplace=True)"
   ]
  },
  {
   "cell_type": "code",
   "execution_count": 23,
   "metadata": {},
   "outputs": [],
   "source": [
    "enade_merge['plano_ensino'].fillna('Não-Informado',inplace=True)"
   ]
  },
  {
   "cell_type": "code",
   "execution_count": 24,
   "metadata": {},
   "outputs": [],
   "source": [
    "enade_merge['avaliacao_curso'].fillna('Não-Informado',inplace=True)"
   ]
  },
  {
   "cell_type": "code",
   "execution_count": 25,
   "metadata": {},
   "outputs": [
    {
     "data": {
      "text/plain": [
       "codigo_IES                         False\n",
       "categoria_adm                      False\n",
       "organizacao_academica              False\n",
       "nome_curso                         False\n",
       "regiao                             False\n",
       "uf                                 False\n",
       "curso                              False\n",
       "idade                              False\n",
       "sexo                               False\n",
       "formatura_medio                    False\n",
       "inicio_graduacao                   False\n",
       "nota_obj_formacao_geral            False\n",
       "nota_disc_formacao_geral           False\n",
       "nota_formacao_geral                False\n",
       "nota_obj_componente_especifico     False\n",
       "nota_disc_componente_especifico    False\n",
       "nota_componente_especifico         False\n",
       "nota_geral                         False\n",
       "estado_civil                       False\n",
       "cor_raca                           False\n",
       "moradia                            False\n",
       "renda_familiar                     False\n",
       "pessoas_moradia                    False\n",
       "trabalha                           False\n",
       "cotas                              False\n",
       "escolaridade_pai                   False\n",
       "escolaridade_mae                   False\n",
       "ensino_medio                       False\n",
       "livros_ano                          True\n",
       "horas_estudo                        True\n",
       "condicoes_salas_estudantes         False\n",
       "condicoes_praticas_materiais       False\n",
       "plano_ensino                       False\n",
       "avaliacao_curso                    False\n",
       "tipo_ensino_medio                  False\n",
       "turno                              False\n",
       "recebeu_cota                       False\n",
       "range_idade                        False\n",
       "ano                                False\n",
       "ead_presencial                     False\n",
       "bolsa_academica                    False\n",
       "condicoes_praticas_estudantes       True\n",
       "recebeu_bolsa                      False\n",
       "dtype: bool"
      ]
     },
     "execution_count": 25,
     "metadata": {},
     "output_type": "execute_result"
    }
   ],
   "source": [
    "enade_merge.isna().any()"
   ]
  },
  {
   "cell_type": "code",
   "execution_count": 26,
   "metadata": {},
   "outputs": [
    {
     "data": {
      "text/html": [
       "<div>\n",
       "<style scoped>\n",
       "    .dataframe tbody tr th:only-of-type {\n",
       "        vertical-align: middle;\n",
       "    }\n",
       "\n",
       "    .dataframe tbody tr th {\n",
       "        vertical-align: top;\n",
       "    }\n",
       "\n",
       "    .dataframe thead th {\n",
       "        text-align: right;\n",
       "    }\n",
       "</style>\n",
       "<table border=\"1\" class=\"dataframe\">\n",
       "  <thead>\n",
       "    <tr style=\"text-align: right;\">\n",
       "      <th></th>\n",
       "      <th>codigo_IES</th>\n",
       "      <th>categoria_adm</th>\n",
       "      <th>organizacao_academica</th>\n",
       "      <th>nome_curso</th>\n",
       "      <th>regiao</th>\n",
       "      <th>uf</th>\n",
       "      <th>curso</th>\n",
       "      <th>idade</th>\n",
       "      <th>sexo</th>\n",
       "      <th>formatura_medio</th>\n",
       "      <th>...</th>\n",
       "      <th>avaliacao_curso</th>\n",
       "      <th>tipo_ensino_medio</th>\n",
       "      <th>turno</th>\n",
       "      <th>recebeu_cota</th>\n",
       "      <th>range_idade</th>\n",
       "      <th>ano</th>\n",
       "      <th>ead_presencial</th>\n",
       "      <th>bolsa_academica</th>\n",
       "      <th>condicoes_praticas_estudantes</th>\n",
       "      <th>recebeu_bolsa</th>\n",
       "    </tr>\n",
       "  </thead>\n",
       "  <tbody>\n",
       "    <tr>\n",
       "      <th>0</th>\n",
       "      <td>385</td>\n",
       "      <td>IES privada</td>\n",
       "      <td>Universidade</td>\n",
       "      <td>SI</td>\n",
       "      <td>NE</td>\n",
       "      <td>BA</td>\n",
       "      <td>56172</td>\n",
       "      <td>24</td>\n",
       "      <td>M</td>\n",
       "      <td>2001</td>\n",
       "      <td>...</td>\n",
       "      <td>Boa</td>\n",
       "      <td>Não-Informado</td>\n",
       "      <td>N</td>\n",
       "      <td>Não</td>\n",
       "      <td>17-24</td>\n",
       "      <td>2008</td>\n",
       "      <td>Não-Informado</td>\n",
       "      <td>Nenhum</td>\n",
       "      <td>NaN</td>\n",
       "      <td>Não</td>\n",
       "    </tr>\n",
       "    <tr>\n",
       "      <th>1</th>\n",
       "      <td>426</td>\n",
       "      <td>IES privada</td>\n",
       "      <td>Centro Universitário</td>\n",
       "      <td>SI</td>\n",
       "      <td>S</td>\n",
       "      <td>RS</td>\n",
       "      <td>8913</td>\n",
       "      <td>24</td>\n",
       "      <td>M</td>\n",
       "      <td>2000</td>\n",
       "      <td>...</td>\n",
       "      <td>Boa</td>\n",
       "      <td>Não-Informado</td>\n",
       "      <td>N</td>\n",
       "      <td>Não</td>\n",
       "      <td>17-24</td>\n",
       "      <td>2008</td>\n",
       "      <td>Não-Informado</td>\n",
       "      <td>Nenhum</td>\n",
       "      <td>NaN</td>\n",
       "      <td>Não</td>\n",
       "    </tr>\n",
       "    <tr>\n",
       "      <th>2</th>\n",
       "      <td>532</td>\n",
       "      <td>IES privada</td>\n",
       "      <td>Universidade</td>\n",
       "      <td>SI</td>\n",
       "      <td>S</td>\n",
       "      <td>RS</td>\n",
       "      <td>10978</td>\n",
       "      <td>27</td>\n",
       "      <td>F</td>\n",
       "      <td>2000</td>\n",
       "      <td>...</td>\n",
       "      <td>Regular</td>\n",
       "      <td>Não-Informado</td>\n",
       "      <td>N</td>\n",
       "      <td>Não</td>\n",
       "      <td>25-29</td>\n",
       "      <td>2008</td>\n",
       "      <td>Não-Informado</td>\n",
       "      <td>Nenhum</td>\n",
       "      <td>NaN</td>\n",
       "      <td>Não</td>\n",
       "    </tr>\n",
       "    <tr>\n",
       "      <th>3</th>\n",
       "      <td>197</td>\n",
       "      <td>IES privada</td>\n",
       "      <td>Faculdade</td>\n",
       "      <td>SI</td>\n",
       "      <td>S</td>\n",
       "      <td>PR</td>\n",
       "      <td>20469</td>\n",
       "      <td>24</td>\n",
       "      <td>M</td>\n",
       "      <td>2000</td>\n",
       "      <td>...</td>\n",
       "      <td>Muito fraca</td>\n",
       "      <td>Não-Informado</td>\n",
       "      <td>N</td>\n",
       "      <td>Sim</td>\n",
       "      <td>17-24</td>\n",
       "      <td>2008</td>\n",
       "      <td>Não-Informado</td>\n",
       "      <td>Nenhum</td>\n",
       "      <td>NaN</td>\n",
       "      <td>Não</td>\n",
       "    </tr>\n",
       "    <tr>\n",
       "      <th>4</th>\n",
       "      <td>1743</td>\n",
       "      <td>IES privada</td>\n",
       "      <td>Faculdade</td>\n",
       "      <td>ADS</td>\n",
       "      <td>SE</td>\n",
       "      <td>SP</td>\n",
       "      <td>47985</td>\n",
       "      <td>20</td>\n",
       "      <td>M</td>\n",
       "      <td>2004</td>\n",
       "      <td>...</td>\n",
       "      <td>Muito boa</td>\n",
       "      <td>Não-Informado</td>\n",
       "      <td>N</td>\n",
       "      <td>Não</td>\n",
       "      <td>17-24</td>\n",
       "      <td>2008</td>\n",
       "      <td>Não-Informado</td>\n",
       "      <td>Nenhum</td>\n",
       "      <td>NaN</td>\n",
       "      <td>Não</td>\n",
       "    </tr>\n",
       "    <tr>\n",
       "      <th>...</th>\n",
       "      <td>...</td>\n",
       "      <td>...</td>\n",
       "      <td>...</td>\n",
       "      <td>...</td>\n",
       "      <td>...</td>\n",
       "      <td>...</td>\n",
       "      <td>...</td>\n",
       "      <td>...</td>\n",
       "      <td>...</td>\n",
       "      <td>...</td>\n",
       "      <td>...</td>\n",
       "      <td>...</td>\n",
       "      <td>...</td>\n",
       "      <td>...</td>\n",
       "      <td>...</td>\n",
       "      <td>...</td>\n",
       "      <td>...</td>\n",
       "      <td>...</td>\n",
       "      <td>...</td>\n",
       "      <td>...</td>\n",
       "      <td>...</td>\n",
       "    </tr>\n",
       "    <tr>\n",
       "      <th>40109</th>\n",
       "      <td>3295</td>\n",
       "      <td>IES privada</td>\n",
       "      <td>Faculdade</td>\n",
       "      <td>ADS</td>\n",
       "      <td>S</td>\n",
       "      <td>SC</td>\n",
       "      <td>5001211</td>\n",
       "      <td>20</td>\n",
       "      <td>M</td>\n",
       "      <td>2014</td>\n",
       "      <td>...</td>\n",
       "      <td>Muito boa</td>\n",
       "      <td>Pública</td>\n",
       "      <td>D</td>\n",
       "      <td>Não</td>\n",
       "      <td>17-24</td>\n",
       "      <td>2017</td>\n",
       "      <td>Presencial</td>\n",
       "      <td>Nenhum</td>\n",
       "      <td>NaN</td>\n",
       "      <td>Não</td>\n",
       "    </tr>\n",
       "    <tr>\n",
       "      <th>40110</th>\n",
       "      <td>3295</td>\n",
       "      <td>IES privada</td>\n",
       "      <td>Faculdade</td>\n",
       "      <td>ADS</td>\n",
       "      <td>S</td>\n",
       "      <td>SC</td>\n",
       "      <td>5001211</td>\n",
       "      <td>25</td>\n",
       "      <td>M</td>\n",
       "      <td>2010</td>\n",
       "      <td>...</td>\n",
       "      <td>Regular</td>\n",
       "      <td>Particular</td>\n",
       "      <td>D</td>\n",
       "      <td>Sim</td>\n",
       "      <td>17-24</td>\n",
       "      <td>2017</td>\n",
       "      <td>Presencial</td>\n",
       "      <td>Nenhum</td>\n",
       "      <td>NaN</td>\n",
       "      <td>Não</td>\n",
       "    </tr>\n",
       "    <tr>\n",
       "      <th>40111</th>\n",
       "      <td>3295</td>\n",
       "      <td>IES privada</td>\n",
       "      <td>Faculdade</td>\n",
       "      <td>ADS</td>\n",
       "      <td>S</td>\n",
       "      <td>SC</td>\n",
       "      <td>5001211</td>\n",
       "      <td>35</td>\n",
       "      <td>M</td>\n",
       "      <td>2007</td>\n",
       "      <td>...</td>\n",
       "      <td>Regular</td>\n",
       "      <td>Pública</td>\n",
       "      <td>D</td>\n",
       "      <td>Não</td>\n",
       "      <td>30-39</td>\n",
       "      <td>2017</td>\n",
       "      <td>Presencial</td>\n",
       "      <td>Nenhum</td>\n",
       "      <td>NaN</td>\n",
       "      <td>Não</td>\n",
       "    </tr>\n",
       "    <tr>\n",
       "      <th>40112</th>\n",
       "      <td>494</td>\n",
       "      <td>IES privada</td>\n",
       "      <td>Universidade</td>\n",
       "      <td>LCC</td>\n",
       "      <td>S</td>\n",
       "      <td>SC</td>\n",
       "      <td>5001284</td>\n",
       "      <td>25</td>\n",
       "      <td>M</td>\n",
       "      <td>2009</td>\n",
       "      <td>...</td>\n",
       "      <td>Muito boa</td>\n",
       "      <td>Pública</td>\n",
       "      <td>I</td>\n",
       "      <td>Não</td>\n",
       "      <td>17-24</td>\n",
       "      <td>2017</td>\n",
       "      <td>EAD</td>\n",
       "      <td>Nenhum</td>\n",
       "      <td>NaN</td>\n",
       "      <td>Não</td>\n",
       "    </tr>\n",
       "    <tr>\n",
       "      <th>40113</th>\n",
       "      <td>494</td>\n",
       "      <td>IES privada</td>\n",
       "      <td>Universidade</td>\n",
       "      <td>LCC</td>\n",
       "      <td>S</td>\n",
       "      <td>SC</td>\n",
       "      <td>5001284</td>\n",
       "      <td>34</td>\n",
       "      <td>M</td>\n",
       "      <td>2000</td>\n",
       "      <td>...</td>\n",
       "      <td>Muito boa</td>\n",
       "      <td>Particular</td>\n",
       "      <td>I</td>\n",
       "      <td>Não</td>\n",
       "      <td>30-39</td>\n",
       "      <td>2017</td>\n",
       "      <td>EAD</td>\n",
       "      <td>Nenhum</td>\n",
       "      <td>NaN</td>\n",
       "      <td>Não</td>\n",
       "    </tr>\n",
       "  </tbody>\n",
       "</table>\n",
       "<p>132585 rows × 43 columns</p>\n",
       "</div>"
      ],
      "text/plain": [
       "       codigo_IES categoria_adm organizacao_academica nome_curso regiao  uf  \\\n",
       "0             385   IES privada          Universidade         SI     NE  BA   \n",
       "1             426   IES privada  Centro Universitário         SI      S  RS   \n",
       "2             532   IES privada          Universidade         SI      S  RS   \n",
       "3             197   IES privada             Faculdade         SI      S  PR   \n",
       "4            1743   IES privada             Faculdade        ADS     SE  SP   \n",
       "...           ...           ...                   ...        ...    ...  ..   \n",
       "40109        3295   IES privada             Faculdade        ADS      S  SC   \n",
       "40110        3295   IES privada             Faculdade        ADS      S  SC   \n",
       "40111        3295   IES privada             Faculdade        ADS      S  SC   \n",
       "40112         494   IES privada          Universidade        LCC      S  SC   \n",
       "40113         494   IES privada          Universidade        LCC      S  SC   \n",
       "\n",
       "         curso  idade sexo  formatura_medio  ...  avaliacao_curso  \\\n",
       "0        56172     24    M             2001  ...              Boa   \n",
       "1         8913     24    M             2000  ...              Boa   \n",
       "2        10978     27    F             2000  ...          Regular   \n",
       "3        20469     24    M             2000  ...      Muito fraca   \n",
       "4        47985     20    M             2004  ...        Muito boa   \n",
       "...        ...    ...  ...              ...  ...              ...   \n",
       "40109  5001211     20    M             2014  ...        Muito boa   \n",
       "40110  5001211     25    M             2010  ...          Regular   \n",
       "40111  5001211     35    M             2007  ...          Regular   \n",
       "40112  5001284     25    M             2009  ...        Muito boa   \n",
       "40113  5001284     34    M             2000  ...        Muito boa   \n",
       "\n",
       "       tipo_ensino_medio  turno  recebeu_cota  range_idade   ano  \\\n",
       "0          Não-Informado      N           Não        17-24  2008   \n",
       "1          Não-Informado      N           Não        17-24  2008   \n",
       "2          Não-Informado      N           Não        25-29  2008   \n",
       "3          Não-Informado      N           Sim        17-24  2008   \n",
       "4          Não-Informado      N           Não        17-24  2008   \n",
       "...                  ...    ...           ...          ...   ...   \n",
       "40109            Pública      D           Não        17-24  2017   \n",
       "40110         Particular      D           Sim        17-24  2017   \n",
       "40111            Pública      D           Não        30-39  2017   \n",
       "40112            Pública      I           Não        17-24  2017   \n",
       "40113         Particular      I           Não        30-39  2017   \n",
       "\n",
       "       ead_presencial  bolsa_academica condicoes_praticas_estudantes  \\\n",
       "0       Não-Informado           Nenhum                           NaN   \n",
       "1       Não-Informado           Nenhum                           NaN   \n",
       "2       Não-Informado           Nenhum                           NaN   \n",
       "3       Não-Informado           Nenhum                           NaN   \n",
       "4       Não-Informado           Nenhum                           NaN   \n",
       "...               ...              ...                           ...   \n",
       "40109      Presencial           Nenhum                           NaN   \n",
       "40110      Presencial           Nenhum                           NaN   \n",
       "40111      Presencial           Nenhum                           NaN   \n",
       "40112             EAD           Nenhum                           NaN   \n",
       "40113             EAD           Nenhum                           NaN   \n",
       "\n",
       "      recebeu_bolsa  \n",
       "0               Não  \n",
       "1               Não  \n",
       "2               Não  \n",
       "3               Não  \n",
       "4               Não  \n",
       "...             ...  \n",
       "40109           Não  \n",
       "40110           Não  \n",
       "40111           Não  \n",
       "40112           Não  \n",
       "40113           Não  \n",
       "\n",
       "[132585 rows x 43 columns]"
      ]
     },
     "execution_count": 26,
     "metadata": {},
     "output_type": "execute_result"
    }
   ],
   "source": [
    "enade_merge"
   ]
  },
  {
   "cell_type": "code",
   "execution_count": 27,
   "metadata": {},
   "outputs": [],
   "source": [
    "enade_merge['livros_ano'].replace(['*','.'],'0',inplace=True)\n",
    "enade_merge['livros_ano'].fillna('0',inplace=True)"
   ]
  },
  {
   "cell_type": "code",
   "execution_count": 28,
   "metadata": {},
   "outputs": [],
   "source": [
    "enade_merge['horas_estudo'].replace(['*','.'],'0',inplace=True)\n",
    "enade_merge['horas_estudo'].fillna('0',inplace=True)"
   ]
  },
  {
   "cell_type": "code",
   "execution_count": 29,
   "metadata": {},
   "outputs": [],
   "source": [
    "order_column = ['ano','curso','nome_curso','uf','regiao','codigo_IES','categoria_adm','organizacao_academica','turno','ead_presencial',\n",
    "                'nota_geral','nota_formacao_geral','nota_obj_formacao_geral','nota_disc_formacao_geral',\n",
    "                'nota_componente_especifico','nota_obj_componente_especifico','nota_disc_componente_especifico',\n",
    "                'formatura_medio','inicio_graduacao','tipo_ensino_medio','idade','range_idade','sexo','cor_raca',\n",
    "                'escolaridade_pai','escolaridade_mae','renda_familiar','cotas','recebeu_cota','bolsa_academica','recebeu_bolsa', \n",
    "                'trabalha', 'livros_ano', 'horas_estudo', \n",
    "                'estado_civil', 'moradia', 'pessoas_moradia', 'ensino_medio', 'condicoes_salas_estudantes', 'condicoes_praticas_materiais', 'plano_ensino', 'avaliacao_curso']\n",
    "\n",
    "enade_merge = enade_merge.reindex(columns=order_column)"
   ]
  },
  {
   "cell_type": "code",
   "execution_count": 30,
   "metadata": {},
   "outputs": [
    {
     "data": {
      "text/plain": [
       "array(['Noturno', 'Diurno', 'Não-Informado', 'Integral'], dtype=object)"
      ]
     },
     "execution_count": 30,
     "metadata": {},
     "output_type": "execute_result"
    }
   ],
   "source": [
    "turno_dict={'I':'Integral','D':'Diurno','N':'Noturno','Não-Informado':'Não-Informado'}\n",
    "enade_merge['turno'].replace(turno_dict,inplace=True)\n",
    "enade_merge['turno'].unique()"
   ]
  },
  {
   "cell_type": "code",
   "execution_count": 31,
   "metadata": {},
   "outputs": [
    {
     "data": {
      "text/plain": [
       "M    111927\n",
       "F     20655\n",
       "Name: sexo, dtype: int64"
      ]
     },
     "execution_count": 31,
     "metadata": {},
     "output_type": "execute_result"
    }
   ],
   "source": [
    "enade_merge = enade_merge.loc[enade_merge.sexo != 'N']\n",
    "enade_merge['sexo'].value_counts()"
   ]
  },
  {
   "cell_type": "code",
   "execution_count": 32,
   "metadata": {},
   "outputs": [
    {
     "data": {
      "text/plain": [
       "array(['Ensino Médio', 'Ensino Fundamental', 'Ensino Superior', 'Nenhuma'],\n",
       "      dtype=object)"
      ]
     },
     "execution_count": 32,
     "metadata": {},
     "output_type": "execute_result"
    }
   ],
   "source": [
    "escolaridade_dict = {'1°-5° EF':'Ensino Fundamental','6°-9° EF':'Ensino Fundamental','Ensino Médio':'Ensino Médio','Nenhuma':'Nenhuma','Graduação':'Ensino Superior','Graduação+':'Ensino Superior','Pós-graduação':'Ensino Superior'}\n",
    "enade_merge['escolaridade_pai'].replace(escolaridade_dict,inplace=True)\n",
    "enade_merge['escolaridade_pai'].unique()"
   ]
  },
  {
   "cell_type": "code",
   "execution_count": 33,
   "metadata": {},
   "outputs": [
    {
     "data": {
      "text/plain": [
       "array(['Ensino Superior', 'Ensino Fundamental', 'Nenhuma', 'Ensino Médio'],\n",
       "      dtype=object)"
      ]
     },
     "execution_count": 33,
     "metadata": {},
     "output_type": "execute_result"
    }
   ],
   "source": [
    "enade_merge['escolaridade_mae'].replace(escolaridade_dict,inplace=True)\n",
    "enade_merge['escolaridade_mae'].unique()"
   ]
  },
  {
   "cell_type": "code",
   "execution_count": 34,
   "metadata": {},
   "outputs": [
    {
     "data": {
      "text/plain": [
       "array(['Sim', 'Não-Informado', 'Não'], dtype=object)"
      ]
     },
     "execution_count": 34,
     "metadata": {},
     "output_type": "execute_result"
    }
   ],
   "source": [
    "enade_merge['trabalha'].unique()"
   ]
  },
  {
   "cell_type": "code",
   "execution_count": 35,
   "metadata": {},
   "outputs": [
    {
     "data": {
      "text/plain": [
       "array(['Universidade', 'Centro Universitário', 'Faculdade',\n",
       "       'Instituto Superior', 'C.F.E.T', 'I.F.E'], dtype=object)"
      ]
     },
     "execution_count": 35,
     "metadata": {},
     "output_type": "execute_result"
    }
   ],
   "source": [
    "enade_merge['organizacao_academica'].unique()"
   ]
  },
  {
   "cell_type": "code",
   "execution_count": 36,
   "metadata": {},
   "outputs": [
    {
     "data": {
      "text/plain": [
       "array(['Indígena', 'Branca', 'Não Inf.', 'Parda', 'Preta', 'Amarela'],\n",
       "      dtype=object)"
      ]
     },
     "execution_count": 36,
     "metadata": {},
     "output_type": "execute_result"
    }
   ],
   "source": [
    "escolaridade_dict = {'Amarela':'Amarela','Branca':'Branca','Indígena':'Indígena','ND':'Não Inf.','Parda':'Parda','Preta':'Preta'}\n",
    "enade_merge['cor_raca'].replace(escolaridade_dict,inplace=True)\n",
    "enade_merge['cor_raca'].unique()"
   ]
  },
  {
   "cell_type": "code",
   "execution_count": 37,
   "metadata": {},
   "outputs": [],
   "source": [
    "enade_merge = enade_merge.astype({'nota_geral':float})\n",
    "enade_merge = enade_merge.astype({'nota_formacao_geral':float})\n",
    "enade_merge = enade_merge.astype({'nota_obj_formacao_geral':float})\n",
    "enade_merge = enade_merge.astype({'nota_disc_formacao_geral':float})\n",
    "enade_merge = enade_merge.astype({'nota_componente_especifico':float})\n",
    "enade_merge = enade_merge.astype({'nota_obj_componente_especifico':float})\n",
    "enade_merge = enade_merge.astype({'nota_disc_componente_especifico':float})"
   ]
  },
  {
   "cell_type": "code",
   "execution_count": 38,
   "metadata": {},
   "outputs": [],
   "source": [
    "enade_merge['nota_geral'] = enade_merge['nota_geral'].round(2)\n",
    "enade_merge['nota_formacao_geral'] = enade_merge['nota_formacao_geral'].round(2)\n",
    "enade_merge['nota_obj_formacao_geral'] = enade_merge['nota_obj_formacao_geral'].round(2)\n",
    "enade_merge['nota_disc_formacao_geral'] = enade_merge['nota_disc_formacao_geral'].round(2)\n",
    "enade_merge['nota_componente_especifico'] = enade_merge['nota_componente_especifico'].round(2)\n",
    "enade_merge['nota_obj_componente_especifico'] = enade_merge['nota_obj_componente_especifico'].round(2)\n",
    "enade_merge['nota_disc_componente_especifico'] = enade_merge['nota_disc_componente_especifico'].round(2)"
   ]
  },
  {
   "cell_type": "code",
   "execution_count": 39,
   "metadata": {},
   "outputs": [],
   "source": [
    "enade_merge.rename(columns={'nota_disc_formacao_geral':'nota_dis_formacao_geral'},inplace=True)\n",
    "enade_merge.rename(columns={'nota_disc_componente_especifico':'nota_dis_componente_especifico'},inplace=True)\n",
    "enade_merge.rename(columns={'formatura_medio':'formatura_ensino_medio'},inplace=True)\n",
    "enade_merge.rename(columns={'categoria_adm':'categoria_adm_IES'},inplace=True)"
   ]
  },
  {
   "cell_type": "code",
   "execution_count": 40,
   "metadata": {},
   "outputs": [],
   "source": [
    "enade_merge = enade_merge.astype({'ano':int})"
   ]
  },
  {
   "cell_type": "code",
   "execution_count": 41,
   "metadata": {},
   "outputs": [],
   "source": [
    "enade_merge['idade_comeco_graduacao'] = enade_merge['idade'] - (enade_merge['ano'] - enade_merge['inicio_graduacao'])"
   ]
  },
  {
   "cell_type": "code",
   "execution_count": 42,
   "metadata": {},
   "outputs": [],
   "source": [
    "enade_merge['tempo_ocioso'] =  enade_merge['inicio_graduacao'] - enade_merge['formatura_ensino_medio']"
   ]
  },
  {
   "cell_type": "code",
   "execution_count": 43,
   "metadata": {},
   "outputs": [],
   "source": [
    "enade_merge['tempo_cursado'] = enade_merge['ano'] - enade_merge['inicio_graduacao']"
   ]
  },
  {
   "cell_type": "code",
   "execution_count": 45,
   "metadata": {},
   "outputs": [],
   "source": [
    "# diretorio = '/cotas'\n",
    "enade_merge.to_csv('./{}.csv'.format('enade_merge_08-11-14-17'),index=False,float_format='%.2f')"
   ]
  }
 ],
 "metadata": {
  "interpreter": {
   "hash": "916dbcbb3f70747c44a77c7bcd40155683ae19c65e1c03b4aa3499c5328201f1"
  },
  "kernelspec": {
   "display_name": "Python 3.8.10 64-bit",
   "name": "python3"
  },
  "language_info": {
   "codemirror_mode": {
    "name": "ipython",
    "version": 3
   },
   "file_extension": ".py",
   "mimetype": "text/x-python",
   "name": "python",
   "nbconvert_exporter": "python",
   "pygments_lexer": "ipython3",
   "version": "3.8.10"
  },
  "metadata": {
   "interpreter": {
    "hash": "916dbcbb3f70747c44a77c7bcd40155683ae19c65e1c03b4aa3499c5328201f1"
   }
  }
 },
 "nbformat": 4,
 "nbformat_minor": 2
}
